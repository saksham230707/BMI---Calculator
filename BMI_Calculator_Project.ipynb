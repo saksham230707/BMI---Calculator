{
 "cells": [
  {
   "cell_type": "markdown",
   "id": "adc1932c",
   "metadata": {},
   "source": [
    "# 🧮 BMI Calculator in Python\n",
    "A beginner-friendly project written in simple Python code.\n",
    "---"
   ]
  },
  {
   "cell_type": "code",
   "execution_count": null,
   "id": "e3820e80",
   "metadata": {},
   "outputs": [],
   "source": [
    "# BMI Calculator\n",
    "print(\"Welcome to BMI Calculator\")\n",
    "print(\"--------------------------\")\n",
    "\n",
    "# Taking input from the user\n",
    "name = input(\"Enter your name: \")\n",
    "height = float(input(\"Enter your height in meters: \"))\n",
    "weight = float(input(\"Enter your weight in kilograms: \"))\n",
    "\n",
    "# Calculating BMI\n",
    "bmi = weight / (height * height)\n",
    "\n",
    "# Printing BMI value\n",
    "print(\"\\nHello\", name + \"!\")\n",
    "print(\"Your BMI is:\", round(bmi, 2))\n",
    "\n",
    "# Checking category\n",
    "if bmi < 18.5:\n",
    "    print(\"You are underweight.\")\n",
    "elif bmi >= 18.5 and bmi < 24.9:\n",
    "    print(\"You have a normal weight.\")\n",
    "elif bmi >= 25 and bmi < 29.9:\n",
    "    print(\"You are overweight.\")\n",
    "else:\n",
    "    print(\"You are obese.\")"
   ]
  }
 ],
 "metadata": {
  "language_info": {
   "name": "python"
  }
 },
 "nbformat": 4,
 "nbformat_minor": 5
}
